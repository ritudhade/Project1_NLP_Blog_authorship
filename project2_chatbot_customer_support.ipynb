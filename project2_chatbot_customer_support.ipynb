{
  "nbformat": 4,
  "nbformat_minor": 0,
  "metadata": {
    "colab": {
      "provenance": [],
      "mount_file_id": "1cZLQcDNbbhHniy8HGZoD-kU595yOxw5I",
      "authorship_tag": "ABX9TyN2tVtIqiPvY8HU0WiDW8rh"
    },
    "kernelspec": {
      "name": "python3",
      "display_name": "Python 3"
    },
    "language_info": {
      "name": "python"
    }
  },
  "cells": [
    {
      "cell_type": "markdown",
      "source": [
        "# Customer support Chatbot"
      ],
      "metadata": {
        "id": "WFETg4zgnOPn"
      }
    },
    {
      "cell_type": "markdown",
      "source": [
        "### Importing all libraries"
      ],
      "metadata": {
        "id": "vVKfkiPLoTra"
      }
    },
    {
      "cell_type": "code",
      "source": [
        "import numpy as np\n",
        "import string\n",
        "import random # for picking random elements\n",
        "from nltk.stem import LancasterStemmer, WordNetLemmatizer\n",
        "import warnings\n",
        "warnings.filterwarnings(\"ignore\")\n",
        "import json\n",
        "import nltk"
      ],
      "metadata": {
        "id": "i-oaOKpmoV2R"
      },
      "execution_count": 1,
      "outputs": []
    },
    {
      "cell_type": "code",
      "source": [
        "nltk.download('stopwords')\n",
        "nltk.download(\"punkt\")\n",
        "nltk.download('wordnet')"
      ],
      "metadata": {
        "colab": {
          "base_uri": "https://localhost:8080/"
        },
        "id": "H-R5RdMZpIv5",
        "outputId": "7b4b9b9b-b3e9-4f81-f602-b0575b3c636e"
      },
      "execution_count": 2,
      "outputs": [
        {
          "output_type": "stream",
          "name": "stderr",
          "text": [
            "[nltk_data] Downloading package stopwords to /root/nltk_data...\n",
            "[nltk_data]   Unzipping corpora/stopwords.zip.\n",
            "[nltk_data] Downloading package punkt to /root/nltk_data...\n",
            "[nltk_data]   Unzipping tokenizers/punkt.zip.\n",
            "[nltk_data] Downloading package wordnet to /root/nltk_data...\n"
          ]
        },
        {
          "output_type": "execute_result",
          "data": {
            "text/plain": [
              "True"
            ]
          },
          "metadata": {},
          "execution_count": 2
        }
      ]
    },
    {
      "cell_type": "markdown",
      "source": [
        "### Data Gathering"
      ],
      "metadata": {
        "id": "D3rXB2U4wX6v"
      }
    },
    {
      "cell_type": "code",
      "source": [
        "with open('/content/drive/MyDrive/Assignment/GL Bot.json') as file:\n",
        "  data = json.load(file)"
      ],
      "metadata": {
        "id": "_A_fp5AnwCZg"
      },
      "execution_count": 3,
      "outputs": []
    },
    {
      "cell_type": "code",
      "source": [
        "print(data)"
      ],
      "metadata": {
        "colab": {
          "base_uri": "https://localhost:8080/"
        },
        "id": "-evw8E19wqQ9",
        "outputId": "40e506f8-5658-4c27-9361-b74e5af1df38"
      },
      "execution_count": 4,
      "outputs": [
        {
          "output_type": "stream",
          "name": "stdout",
          "text": [
            "{'intents': [{'tag': 'Intro', 'patterns': ['hi', 'how are you', 'is anyone there', 'hello', 'whats up', 'hey', 'yo', 'listen', 'please help me', 'i am learner from', 'i belong to', 'aiml batch', 'aifl batch', 'i am from', 'my pm is', 'blended', 'online', 'i am from', 'hey ya', 'talking to you for first time'], 'responses': ['Hello! how can i help you ?'], 'context_set': ''}, {'tag': 'Exit', 'patterns': ['thank you', 'thanks', 'cya', 'see you', 'later', 'see you later', 'goodbye', 'i am leaving', 'have a Good day', 'you helped me', 'thanks a lot', 'thanks a ton', 'you are the best', 'great help', 'too good', 'you are a good learning buddy'], 'responses': ['I hope I was able to assist you, Good Bye'], 'context_set': ''}, {'tag': 'Olympus', 'patterns': ['olympus', 'explain me how olympus works', 'I am not able to understand olympus', 'olympus window not working', 'no access to olympus', 'unable to see link in olympus', 'no link visible on olympus', 'whom to contact for olympus', 'lot of problem with olympus', 'olypus is not a good tool', 'lot of problems with olympus', 'how to use olympus', 'teach me olympus'], 'responses': ['Link: Olympus wiki'], 'context_set': ''}, {'tag': 'SL', 'patterns': ['i am not able to understand svm', 'explain me how machine learning works', 'i am not able to understand naive bayes', 'i am not able to understand logistic regression', 'i am not able to understand ensemble techb=niques', 'i am not able to understand knn', 'i am not able to understand knn imputer', 'i am not able to understand cross validation', 'i am not able to understand boosting', 'i am not able to understand random forest', 'i am not able to understand ada boosting', 'i am not able to understand gradient boosting', 'machine learning', 'ML', 'SL', 'supervised learning', 'knn', 'logistic regression', 'regression', 'classification', 'naive bayes', 'nb', 'ensemble techniques', 'bagging', 'boosting', 'ada boosting', 'ada', 'gradient boosting', 'hyper parameters'], 'responses': ['Link: Machine Learning wiki '], 'context_set': ''}, {'tag': 'NN', 'patterns': ['what is deep learning', 'unable to understand deep learning', 'explain me how deep learning works', 'i am not able to understand deep learning', 'not able to understand neural nets', 'very diffult to understand neural nets', 'unable to understand neural nets', 'ann', 'artificial intelligence', 'artificial neural networks', 'weights', 'activation function', 'hidden layers', 'softmax', 'sigmoid', 'relu', 'otimizer', 'forward propagation', 'backward propagation', 'epochs', 'epoch', 'what is an epoch', 'adam', 'sgd'], 'responses': ['Link: Neural Nets wiki'], 'context_set': ''}, {'tag': 'Bot', 'patterns': ['what is your name', 'who are you', 'name please', 'when are your hours of opertions', 'what are your working hours', 'hours of operation', 'working hours', 'hours'], 'responses': ['I am your virtual learning assistant'], 'context_set': ''}, {'tag': 'Profane', 'patterns': ['what the hell', 'bloody stupid bot', 'do you think you are very smart', 'screw you', 'i hate you', 'you are stupid', 'jerk', 'you are a joke', 'useless piece of shit'], 'responses': ['Please use respectful words'], 'context_set': ''}, {'tag': 'Ticket', 'patterns': ['my problem is not solved', 'you did not help me', 'not a good solution', 'bad solution', 'not good solution', 'no help', 'wasted my time', 'useless bot', 'create a ticket'], 'responses': ['Tarnsferring the request to your PM'], 'context_set': ''}]}\n"
          ]
        }
      ]
    },
    {
      "cell_type": "code",
      "source": [
        "print(data['intents'])"
      ],
      "metadata": {
        "colab": {
          "base_uri": "https://localhost:8080/"
        },
        "id": "MtVjOwQewsgy",
        "outputId": "9ad5c6be-b9c4-4f6c-a551-c7d1d11c65a5"
      },
      "execution_count": 5,
      "outputs": [
        {
          "output_type": "stream",
          "name": "stdout",
          "text": [
            "[{'tag': 'Intro', 'patterns': ['hi', 'how are you', 'is anyone there', 'hello', 'whats up', 'hey', 'yo', 'listen', 'please help me', 'i am learner from', 'i belong to', 'aiml batch', 'aifl batch', 'i am from', 'my pm is', 'blended', 'online', 'i am from', 'hey ya', 'talking to you for first time'], 'responses': ['Hello! how can i help you ?'], 'context_set': ''}, {'tag': 'Exit', 'patterns': ['thank you', 'thanks', 'cya', 'see you', 'later', 'see you later', 'goodbye', 'i am leaving', 'have a Good day', 'you helped me', 'thanks a lot', 'thanks a ton', 'you are the best', 'great help', 'too good', 'you are a good learning buddy'], 'responses': ['I hope I was able to assist you, Good Bye'], 'context_set': ''}, {'tag': 'Olympus', 'patterns': ['olympus', 'explain me how olympus works', 'I am not able to understand olympus', 'olympus window not working', 'no access to olympus', 'unable to see link in olympus', 'no link visible on olympus', 'whom to contact for olympus', 'lot of problem with olympus', 'olypus is not a good tool', 'lot of problems with olympus', 'how to use olympus', 'teach me olympus'], 'responses': ['Link: Olympus wiki'], 'context_set': ''}, {'tag': 'SL', 'patterns': ['i am not able to understand svm', 'explain me how machine learning works', 'i am not able to understand naive bayes', 'i am not able to understand logistic regression', 'i am not able to understand ensemble techb=niques', 'i am not able to understand knn', 'i am not able to understand knn imputer', 'i am not able to understand cross validation', 'i am not able to understand boosting', 'i am not able to understand random forest', 'i am not able to understand ada boosting', 'i am not able to understand gradient boosting', 'machine learning', 'ML', 'SL', 'supervised learning', 'knn', 'logistic regression', 'regression', 'classification', 'naive bayes', 'nb', 'ensemble techniques', 'bagging', 'boosting', 'ada boosting', 'ada', 'gradient boosting', 'hyper parameters'], 'responses': ['Link: Machine Learning wiki '], 'context_set': ''}, {'tag': 'NN', 'patterns': ['what is deep learning', 'unable to understand deep learning', 'explain me how deep learning works', 'i am not able to understand deep learning', 'not able to understand neural nets', 'very diffult to understand neural nets', 'unable to understand neural nets', 'ann', 'artificial intelligence', 'artificial neural networks', 'weights', 'activation function', 'hidden layers', 'softmax', 'sigmoid', 'relu', 'otimizer', 'forward propagation', 'backward propagation', 'epochs', 'epoch', 'what is an epoch', 'adam', 'sgd'], 'responses': ['Link: Neural Nets wiki'], 'context_set': ''}, {'tag': 'Bot', 'patterns': ['what is your name', 'who are you', 'name please', 'when are your hours of opertions', 'what are your working hours', 'hours of operation', 'working hours', 'hours'], 'responses': ['I am your virtual learning assistant'], 'context_set': ''}, {'tag': 'Profane', 'patterns': ['what the hell', 'bloody stupid bot', 'do you think you are very smart', 'screw you', 'i hate you', 'you are stupid', 'jerk', 'you are a joke', 'useless piece of shit'], 'responses': ['Please use respectful words'], 'context_set': ''}, {'tag': 'Ticket', 'patterns': ['my problem is not solved', 'you did not help me', 'not a good solution', 'bad solution', 'not good solution', 'no help', 'wasted my time', 'useless bot', 'create a ticket'], 'responses': ['Tarnsferring the request to your PM'], 'context_set': ''}]\n"
          ]
        }
      ]
    },
    {
      "cell_type": "code",
      "source": [
        "print(data['intents'][0]['tag'])"
      ],
      "metadata": {
        "colab": {
          "base_uri": "https://localhost:8080/"
        },
        "id": "bLtcSA12LfvO",
        "outputId": "b3d3c4aa-26f7-4f9d-ff11-46cb36ab70d7"
      },
      "execution_count": 6,
      "outputs": [
        {
          "output_type": "stream",
          "name": "stdout",
          "text": [
            "Intro\n"
          ]
        }
      ]
    },
    {
      "cell_type": "code",
      "source": [
        "for word in data['intents']:\n",
        "  print(word['tag'])\n",
        "  print(word['responses'])"
      ],
      "metadata": {
        "colab": {
          "base_uri": "https://localhost:8080/"
        },
        "id": "HJMueySKLYrV",
        "outputId": "ca1d678c-90ea-44fb-ed61-3a6cdff182b0"
      },
      "execution_count": 7,
      "outputs": [
        {
          "output_type": "stream",
          "name": "stdout",
          "text": [
            "Intro\n",
            "['Hello! how can i help you ?']\n",
            "Exit\n",
            "['I hope I was able to assist you, Good Bye']\n",
            "Olympus\n",
            "['Link: Olympus wiki']\n",
            "SL\n",
            "['Link: Machine Learning wiki ']\n",
            "NN\n",
            "['Link: Neural Nets wiki']\n",
            "Bot\n",
            "['I am your virtual learning assistant']\n",
            "Profane\n",
            "['Please use respectful words']\n",
            "Ticket\n",
            "['Tarnsferring the request to your PM']\n"
          ]
        }
      ]
    },
    {
      "cell_type": "markdown",
      "source": [
        "## Extracting data"
      ],
      "metadata": {
        "id": "wXhEx3e8WYJn"
      }
    },
    {
      "cell_type": "code",
      "source": [
        "tokens= []\n",
        "labels=[]\n",
        "doc_x = []\n",
        "doc_y = []\n",
        "\n",
        "for intent in data['intents']:\n",
        "    for pattern in intent['patterns']:\n",
        "        words = nltk.word_tokenize(pattern)\n",
        "        tokens.extend(words)\n",
        "        doc_x.append(words)\n",
        "        doc_y.append(intent[\"tag\"])\n",
        "        \n",
        "    if intent['tag'] not in labels:\n",
        "        labels.append(intent['tag'])"
      ],
      "metadata": {
        "id": "y3BdiNu8Xzfs"
      },
      "execution_count": 8,
      "outputs": []
    },
    {
      "cell_type": "code",
      "source": [
        "print(\"tokens :\",tokens)\n",
        "print(\"labels :\",labels)\n",
        "print(\"doc_x  :\",doc_x)\n",
        "print(\"doc_y  :\",doc_y)\n"
      ],
      "metadata": {
        "colab": {
          "base_uri": "https://localhost:8080/"
        },
        "id": "Vt6pBSIJYNB5",
        "outputId": "d2f9efdd-5bcc-41b2-e106-76bf49439aed"
      },
      "execution_count": 9,
      "outputs": [
        {
          "output_type": "stream",
          "name": "stdout",
          "text": [
            "tokens : ['hi', 'how', 'are', 'you', 'is', 'anyone', 'there', 'hello', 'whats', 'up', 'hey', 'yo', 'listen', 'please', 'help', 'me', 'i', 'am', 'learner', 'from', 'i', 'belong', 'to', 'aiml', 'batch', 'aifl', 'batch', 'i', 'am', 'from', 'my', 'pm', 'is', 'blended', 'online', 'i', 'am', 'from', 'hey', 'ya', 'talking', 'to', 'you', 'for', 'first', 'time', 'thank', 'you', 'thanks', 'cya', 'see', 'you', 'later', 'see', 'you', 'later', 'goodbye', 'i', 'am', 'leaving', 'have', 'a', 'Good', 'day', 'you', 'helped', 'me', 'thanks', 'a', 'lot', 'thanks', 'a', 'ton', 'you', 'are', 'the', 'best', 'great', 'help', 'too', 'good', 'you', 'are', 'a', 'good', 'learning', 'buddy', 'olympus', 'explain', 'me', 'how', 'olympus', 'works', 'I', 'am', 'not', 'able', 'to', 'understand', 'olympus', 'olympus', 'window', 'not', 'working', 'no', 'access', 'to', 'olympus', 'unable', 'to', 'see', 'link', 'in', 'olympus', 'no', 'link', 'visible', 'on', 'olympus', 'whom', 'to', 'contact', 'for', 'olympus', 'lot', 'of', 'problem', 'with', 'olympus', 'olypus', 'is', 'not', 'a', 'good', 'tool', 'lot', 'of', 'problems', 'with', 'olympus', 'how', 'to', 'use', 'olympus', 'teach', 'me', 'olympus', 'i', 'am', 'not', 'able', 'to', 'understand', 'svm', 'explain', 'me', 'how', 'machine', 'learning', 'works', 'i', 'am', 'not', 'able', 'to', 'understand', 'naive', 'bayes', 'i', 'am', 'not', 'able', 'to', 'understand', 'logistic', 'regression', 'i', 'am', 'not', 'able', 'to', 'understand', 'ensemble', 'techb=niques', 'i', 'am', 'not', 'able', 'to', 'understand', 'knn', 'i', 'am', 'not', 'able', 'to', 'understand', 'knn', 'imputer', 'i', 'am', 'not', 'able', 'to', 'understand', 'cross', 'validation', 'i', 'am', 'not', 'able', 'to', 'understand', 'boosting', 'i', 'am', 'not', 'able', 'to', 'understand', 'random', 'forest', 'i', 'am', 'not', 'able', 'to', 'understand', 'ada', 'boosting', 'i', 'am', 'not', 'able', 'to', 'understand', 'gradient', 'boosting', 'machine', 'learning', 'ML', 'SL', 'supervised', 'learning', 'knn', 'logistic', 'regression', 'regression', 'classification', 'naive', 'bayes', 'nb', 'ensemble', 'techniques', 'bagging', 'boosting', 'ada', 'boosting', 'ada', 'gradient', 'boosting', 'hyper', 'parameters', 'what', 'is', 'deep', 'learning', 'unable', 'to', 'understand', 'deep', 'learning', 'explain', 'me', 'how', 'deep', 'learning', 'works', 'i', 'am', 'not', 'able', 'to', 'understand', 'deep', 'learning', 'not', 'able', 'to', 'understand', 'neural', 'nets', 'very', 'diffult', 'to', 'understand', 'neural', 'nets', 'unable', 'to', 'understand', 'neural', 'nets', 'ann', 'artificial', 'intelligence', 'artificial', 'neural', 'networks', 'weights', 'activation', 'function', 'hidden', 'layers', 'softmax', 'sigmoid', 'relu', 'otimizer', 'forward', 'propagation', 'backward', 'propagation', 'epochs', 'epoch', 'what', 'is', 'an', 'epoch', 'adam', 'sgd', 'what', 'is', 'your', 'name', 'who', 'are', 'you', 'name', 'please', 'when', 'are', 'your', 'hours', 'of', 'opertions', 'what', 'are', 'your', 'working', 'hours', 'hours', 'of', 'operation', 'working', 'hours', 'hours', 'what', 'the', 'hell', 'bloody', 'stupid', 'bot', 'do', 'you', 'think', 'you', 'are', 'very', 'smart', 'screw', 'you', 'i', 'hate', 'you', 'you', 'are', 'stupid', 'jerk', 'you', 'are', 'a', 'joke', 'useless', 'piece', 'of', 'shit', 'my', 'problem', 'is', 'not', 'solved', 'you', 'did', 'not', 'help', 'me', 'not', 'a', 'good', 'solution', 'bad', 'solution', 'not', 'good', 'solution', 'no', 'help', 'wasted', 'my', 'time', 'useless', 'bot', 'create', 'a', 'ticket']\n",
            "labels : ['Intro', 'Exit', 'Olympus', 'SL', 'NN', 'Bot', 'Profane', 'Ticket']\n",
            "doc_x  : [['hi'], ['how', 'are', 'you'], ['is', 'anyone', 'there'], ['hello'], ['whats', 'up'], ['hey'], ['yo'], ['listen'], ['please', 'help', 'me'], ['i', 'am', 'learner', 'from'], ['i', 'belong', 'to'], ['aiml', 'batch'], ['aifl', 'batch'], ['i', 'am', 'from'], ['my', 'pm', 'is'], ['blended'], ['online'], ['i', 'am', 'from'], ['hey', 'ya'], ['talking', 'to', 'you', 'for', 'first', 'time'], ['thank', 'you'], ['thanks'], ['cya'], ['see', 'you'], ['later'], ['see', 'you', 'later'], ['goodbye'], ['i', 'am', 'leaving'], ['have', 'a', 'Good', 'day'], ['you', 'helped', 'me'], ['thanks', 'a', 'lot'], ['thanks', 'a', 'ton'], ['you', 'are', 'the', 'best'], ['great', 'help'], ['too', 'good'], ['you', 'are', 'a', 'good', 'learning', 'buddy'], ['olympus'], ['explain', 'me', 'how', 'olympus', 'works'], ['I', 'am', 'not', 'able', 'to', 'understand', 'olympus'], ['olympus', 'window', 'not', 'working'], ['no', 'access', 'to', 'olympus'], ['unable', 'to', 'see', 'link', 'in', 'olympus'], ['no', 'link', 'visible', 'on', 'olympus'], ['whom', 'to', 'contact', 'for', 'olympus'], ['lot', 'of', 'problem', 'with', 'olympus'], ['olypus', 'is', 'not', 'a', 'good', 'tool'], ['lot', 'of', 'problems', 'with', 'olympus'], ['how', 'to', 'use', 'olympus'], ['teach', 'me', 'olympus'], ['i', 'am', 'not', 'able', 'to', 'understand', 'svm'], ['explain', 'me', 'how', 'machine', 'learning', 'works'], ['i', 'am', 'not', 'able', 'to', 'understand', 'naive', 'bayes'], ['i', 'am', 'not', 'able', 'to', 'understand', 'logistic', 'regression'], ['i', 'am', 'not', 'able', 'to', 'understand', 'ensemble', 'techb=niques'], ['i', 'am', 'not', 'able', 'to', 'understand', 'knn'], ['i', 'am', 'not', 'able', 'to', 'understand', 'knn', 'imputer'], ['i', 'am', 'not', 'able', 'to', 'understand', 'cross', 'validation'], ['i', 'am', 'not', 'able', 'to', 'understand', 'boosting'], ['i', 'am', 'not', 'able', 'to', 'understand', 'random', 'forest'], ['i', 'am', 'not', 'able', 'to', 'understand', 'ada', 'boosting'], ['i', 'am', 'not', 'able', 'to', 'understand', 'gradient', 'boosting'], ['machine', 'learning'], ['ML'], ['SL'], ['supervised', 'learning'], ['knn'], ['logistic', 'regression'], ['regression'], ['classification'], ['naive', 'bayes'], ['nb'], ['ensemble', 'techniques'], ['bagging'], ['boosting'], ['ada', 'boosting'], ['ada'], ['gradient', 'boosting'], ['hyper', 'parameters'], ['what', 'is', 'deep', 'learning'], ['unable', 'to', 'understand', 'deep', 'learning'], ['explain', 'me', 'how', 'deep', 'learning', 'works'], ['i', 'am', 'not', 'able', 'to', 'understand', 'deep', 'learning'], ['not', 'able', 'to', 'understand', 'neural', 'nets'], ['very', 'diffult', 'to', 'understand', 'neural', 'nets'], ['unable', 'to', 'understand', 'neural', 'nets'], ['ann'], ['artificial', 'intelligence'], ['artificial', 'neural', 'networks'], ['weights'], ['activation', 'function'], ['hidden', 'layers'], ['softmax'], ['sigmoid'], ['relu'], ['otimizer'], ['forward', 'propagation'], ['backward', 'propagation'], ['epochs'], ['epoch'], ['what', 'is', 'an', 'epoch'], ['adam'], ['sgd'], ['what', 'is', 'your', 'name'], ['who', 'are', 'you'], ['name', 'please'], ['when', 'are', 'your', 'hours', 'of', 'opertions'], ['what', 'are', 'your', 'working', 'hours'], ['hours', 'of', 'operation'], ['working', 'hours'], ['hours'], ['what', 'the', 'hell'], ['bloody', 'stupid', 'bot'], ['do', 'you', 'think', 'you', 'are', 'very', 'smart'], ['screw', 'you'], ['i', 'hate', 'you'], ['you', 'are', 'stupid'], ['jerk'], ['you', 'are', 'a', 'joke'], ['useless', 'piece', 'of', 'shit'], ['my', 'problem', 'is', 'not', 'solved'], ['you', 'did', 'not', 'help', 'me'], ['not', 'a', 'good', 'solution'], ['bad', 'solution'], ['not', 'good', 'solution'], ['no', 'help'], ['wasted', 'my', 'time'], ['useless', 'bot'], ['create', 'a', 'ticket']]\n",
            "doc_y  : ['Intro', 'Intro', 'Intro', 'Intro', 'Intro', 'Intro', 'Intro', 'Intro', 'Intro', 'Intro', 'Intro', 'Intro', 'Intro', 'Intro', 'Intro', 'Intro', 'Intro', 'Intro', 'Intro', 'Intro', 'Exit', 'Exit', 'Exit', 'Exit', 'Exit', 'Exit', 'Exit', 'Exit', 'Exit', 'Exit', 'Exit', 'Exit', 'Exit', 'Exit', 'Exit', 'Exit', 'Olympus', 'Olympus', 'Olympus', 'Olympus', 'Olympus', 'Olympus', 'Olympus', 'Olympus', 'Olympus', 'Olympus', 'Olympus', 'Olympus', 'Olympus', 'SL', 'SL', 'SL', 'SL', 'SL', 'SL', 'SL', 'SL', 'SL', 'SL', 'SL', 'SL', 'SL', 'SL', 'SL', 'SL', 'SL', 'SL', 'SL', 'SL', 'SL', 'SL', 'SL', 'SL', 'SL', 'SL', 'SL', 'SL', 'SL', 'NN', 'NN', 'NN', 'NN', 'NN', 'NN', 'NN', 'NN', 'NN', 'NN', 'NN', 'NN', 'NN', 'NN', 'NN', 'NN', 'NN', 'NN', 'NN', 'NN', 'NN', 'NN', 'NN', 'NN', 'Bot', 'Bot', 'Bot', 'Bot', 'Bot', 'Bot', 'Bot', 'Bot', 'Profane', 'Profane', 'Profane', 'Profane', 'Profane', 'Profane', 'Profane', 'Profane', 'Profane', 'Ticket', 'Ticket', 'Ticket', 'Ticket', 'Ticket', 'Ticket', 'Ticket', 'Ticket', 'Ticket']\n"
          ]
        }
      ]
    },
    {
      "cell_type": "markdown",
      "source": [
        "## Stemming"
      ],
      "metadata": {
        "id": "8okv78n_aHqY"
      }
    },
    {
      "cell_type": "code",
      "source": [
        "stemmer = LancasterStemmer()\n",
        "tokens = [stemmer.stem(w.lower()) for w in tokens if w != \"?\"]\n",
        "tokens = sorted(list(set(tokens)))\n",
        "\n",
        "labels = sorted(labels)\n",
        "# print(tokens)"
      ],
      "metadata": {
        "id": "FIXrQCsCaOcq"
      },
      "execution_count": 10,
      "outputs": []
    },
    {
      "cell_type": "markdown",
      "source": [
        "## Creating bag of words"
      ],
      "metadata": {
        "id": "msFSG1lafNhg"
      }
    },
    {
      "cell_type": "code",
      "source": [
        "train = []\n",
        "output = []\n",
        "\n",
        "out_empty = [0 for _ in range(len(labels))]\n",
        "\n",
        "for x, doc in enumerate(doc_x):\n",
        "    bag = []\n",
        "\n",
        "    words = [stemmer.stem(w.lower()) for w in doc]\n",
        "    \n",
        "    for w in tokens:\n",
        "        if w in words:\n",
        "            bag.append(1)\n",
        "        else:\n",
        "            bag.append(0)\n",
        "    \n",
        "\n",
        "    output_row = out_empty[:]\n",
        "    output_row[labels.index(doc_y[x])] = 1\n",
        "    \n",
        "    train.append(bag)\n",
        "    output.append(output_row)\n",
        "    "
      ],
      "metadata": {
        "id": "x4TieMkebr73"
      },
      "execution_count": 11,
      "outputs": []
    },
    {
      "cell_type": "code",
      "source": [
        "train = np.array(train)\n",
        "output = np.array(output)"
      ],
      "metadata": {
        "id": "6Rb61SWFgXqD"
      },
      "execution_count": 12,
      "outputs": []
    },
    {
      "cell_type": "markdown",
      "source": [
        "### \"Importing libraries"
      ],
      "metadata": {
        "id": "XY9K1dhml6np"
      }
    },
    {
      "cell_type": "code",
      "source": [
        "import random\n",
        "random.seed(0)\n",
        "\n",
        "import tensorflow\n",
        "from tensorflow.keras.models import Sequential\n",
        "from tensorflow.keras.layers import Flatten, Dense,Input,BatchNormalization,Activation,Dropout\n",
        "from keras.utils.np_utils import to_categorical\n",
        "from keras import optimizers,regularizers\n",
        "from tensorflow.keras.optimizers import SGD"
      ],
      "metadata": {
        "id": "GAdlpm0JkXu4"
      },
      "execution_count": 13,
      "outputs": []
    },
    {
      "cell_type": "code",
      "source": [
        "train"
      ],
      "metadata": {
        "colab": {
          "base_uri": "https://localhost:8080/"
        },
        "id": "EM0XoYlqldnJ",
        "outputId": "4470053b-cf7c-4127-e1db-94e7428ed65f"
      },
      "execution_count": 14,
      "outputs": [
        {
          "output_type": "execute_result",
          "data": {
            "text/plain": [
              "array([[0, 0, 0, ..., 0, 0, 0],\n",
              "       [0, 0, 0, ..., 0, 0, 1],\n",
              "       [0, 0, 0, ..., 0, 0, 0],\n",
              "       ...,\n",
              "       [0, 0, 0, ..., 0, 0, 0],\n",
              "       [0, 0, 0, ..., 0, 0, 0],\n",
              "       [1, 0, 0, ..., 0, 0, 0]])"
            ]
          },
          "metadata": {},
          "execution_count": 14
        }
      ]
    },
    {
      "cell_type": "code",
      "source": [
        "train.shape"
      ],
      "metadata": {
        "colab": {
          "base_uri": "https://localhost:8080/"
        },
        "id": "Rf6Y1fs_loHS",
        "outputId": "69efe38e-610c-47fc-92d7-0a87208b4c60"
      },
      "execution_count": 15,
      "outputs": [
        {
          "output_type": "execute_result",
          "data": {
            "text/plain": [
              "(128, 150)"
            ]
          },
          "metadata": {},
          "execution_count": 15
        }
      ]
    },
    {
      "cell_type": "code",
      "source": [
        "output.shape"
      ],
      "metadata": {
        "colab": {
          "base_uri": "https://localhost:8080/"
        },
        "id": "DHiIWWaDlrMe",
        "outputId": "45ec850c-5ca9-4861-85cb-64e3912b07f2"
      },
      "execution_count": 16,
      "outputs": [
        {
          "output_type": "execute_result",
          "data": {
            "text/plain": [
              "(128, 8)"
            ]
          },
          "metadata": {},
          "execution_count": 16
        }
      ]
    },
    {
      "cell_type": "markdown",
      "source": [
        "## Neural Network"
      ],
      "metadata": {
        "id": "Y1pnRhrrlyG6"
      }
    },
    {
      "cell_type": "code",
      "source": [
        "# Instantiating the Sequential container\n",
        "model=Sequential()\n",
        "model.add(Dense(100,input_dim=len(train[0]),activation='relu'))\n",
        "model.add(Dropout(0.5))\n",
        "model.add(Dense(60,activation='relu'))\n",
        "model.add(Dropout(0.5))\n",
        "model.add(Dense(8,activation='softmax'))"
      ],
      "metadata": {
        "id": "9qS5Y7wslvDs"
      },
      "execution_count": 17,
      "outputs": []
    },
    {
      "cell_type": "code",
      "source": [
        "model.summary()"
      ],
      "metadata": {
        "colab": {
          "base_uri": "https://localhost:8080/"
        },
        "id": "K2UiVZorq-3V",
        "outputId": "081fa46f-a220-4db8-a05c-cbb5bcaa1c59"
      },
      "execution_count": 18,
      "outputs": [
        {
          "output_type": "stream",
          "name": "stdout",
          "text": [
            "Model: \"sequential\"\n",
            "_________________________________________________________________\n",
            " Layer (type)                Output Shape              Param #   \n",
            "=================================================================\n",
            " dense (Dense)               (None, 100)               15100     \n",
            "                                                                 \n",
            " dropout (Dropout)           (None, 100)               0         \n",
            "                                                                 \n",
            " dense_1 (Dense)             (None, 60)                6060      \n",
            "                                                                 \n",
            " dropout_1 (Dropout)         (None, 60)                0         \n",
            "                                                                 \n",
            " dense_2 (Dense)             (None, 8)                 488       \n",
            "                                                                 \n",
            "=================================================================\n",
            "Total params: 21,648\n",
            "Trainable params: 21,648\n",
            "Non-trainable params: 0\n",
            "_________________________________________________________________\n"
          ]
        }
      ]
    },
    {
      "cell_type": "markdown",
      "source": [
        "## Compiling and training the model"
      ],
      "metadata": {
        "id": "5I_rq2_PtECL"
      }
    },
    {
      "cell_type": "code",
      "source": [
        "sgd = optimizers.SGD(lr=0.001,momentum=0.9)\n",
        "adam = tensorflow.keras.optimizers.Adam(learning_rate=0.1)\n",
        "model.compile(optimizer=adam,\n",
        "              loss='categorical_crossentropy',\n",
        "              metrics=['accuracy'])"
      ],
      "metadata": {
        "id": "0XUilLhkrElX"
      },
      "execution_count": 19,
      "outputs": []
    },
    {
      "cell_type": "code",
      "source": [
        "model.fit(train, output, epochs=100,verbose=1)"
      ],
      "metadata": {
        "colab": {
          "base_uri": "https://localhost:8080/"
        },
        "id": "uPRk0B2t1zyl",
        "outputId": "d782a01e-10fb-4451-f439-d7fc28c5f98f"
      },
      "execution_count": 20,
      "outputs": [
        {
          "output_type": "stream",
          "name": "stdout",
          "text": [
            "Epoch 1/100\n",
            "4/4 [==============================] - 1s 5ms/step - loss: 2.1726 - accuracy: 0.1797\n",
            "Epoch 2/100\n",
            "4/4 [==============================] - 0s 3ms/step - loss: 1.7905 - accuracy: 0.3438\n",
            "Epoch 3/100\n",
            "4/4 [==============================] - 0s 4ms/step - loss: 1.9103 - accuracy: 0.4375\n",
            "Epoch 4/100\n",
            "4/4 [==============================] - 0s 4ms/step - loss: 1.4340 - accuracy: 0.5312\n",
            "Epoch 5/100\n",
            "4/4 [==============================] - 0s 4ms/step - loss: 1.4837 - accuracy: 0.5469\n",
            "Epoch 6/100\n",
            "4/4 [==============================] - 0s 3ms/step - loss: 1.9934 - accuracy: 0.5625\n",
            "Epoch 7/100\n",
            "4/4 [==============================] - 0s 3ms/step - loss: 2.0885 - accuracy: 0.5625\n",
            "Epoch 8/100\n",
            "4/4 [==============================] - 0s 3ms/step - loss: 1.8766 - accuracy: 0.5000\n",
            "Epoch 9/100\n",
            "4/4 [==============================] - 0s 3ms/step - loss: 1.3834 - accuracy: 0.5781\n",
            "Epoch 10/100\n",
            "4/4 [==============================] - 0s 3ms/step - loss: 1.2667 - accuracy: 0.6016\n",
            "Epoch 11/100\n",
            "4/4 [==============================] - 0s 3ms/step - loss: 1.6041 - accuracy: 0.6719\n",
            "Epoch 12/100\n",
            "4/4 [==============================] - 0s 3ms/step - loss: 1.9418 - accuracy: 0.6641\n",
            "Epoch 13/100\n",
            "4/4 [==============================] - 0s 3ms/step - loss: 1.9974 - accuracy: 0.6328\n",
            "Epoch 14/100\n",
            "4/4 [==============================] - 0s 3ms/step - loss: 2.0935 - accuracy: 0.6406\n",
            "Epoch 15/100\n",
            "4/4 [==============================] - 0s 4ms/step - loss: 2.0816 - accuracy: 0.5859\n",
            "Epoch 16/100\n",
            "4/4 [==============================] - 0s 3ms/step - loss: 1.9666 - accuracy: 0.6016\n",
            "Epoch 17/100\n",
            "4/4 [==============================] - 0s 4ms/step - loss: 2.2370 - accuracy: 0.6250\n",
            "Epoch 18/100\n",
            "4/4 [==============================] - 0s 4ms/step - loss: 1.2759 - accuracy: 0.6406\n",
            "Epoch 19/100\n",
            "4/4 [==============================] - 0s 7ms/step - loss: 1.9948 - accuracy: 0.6484\n",
            "Epoch 20/100\n",
            "4/4 [==============================] - 0s 3ms/step - loss: 2.0628 - accuracy: 0.6172\n",
            "Epoch 21/100\n",
            "4/4 [==============================] - 0s 3ms/step - loss: 2.0853 - accuracy: 0.6172\n",
            "Epoch 22/100\n",
            "4/4 [==============================] - 0s 4ms/step - loss: 2.0614 - accuracy: 0.7109\n",
            "Epoch 23/100\n",
            "4/4 [==============================] - 0s 5ms/step - loss: 2.7172 - accuracy: 0.6172\n",
            "Epoch 24/100\n",
            "4/4 [==============================] - 0s 4ms/step - loss: 1.6506 - accuracy: 0.7266\n",
            "Epoch 25/100\n",
            "4/4 [==============================] - 0s 5ms/step - loss: 1.1395 - accuracy: 0.6406\n",
            "Epoch 26/100\n",
            "4/4 [==============================] - 0s 4ms/step - loss: 1.4742 - accuracy: 0.6562\n",
            "Epoch 27/100\n",
            "4/4 [==============================] - 0s 3ms/step - loss: 1.3674 - accuracy: 0.7031\n",
            "Epoch 28/100\n",
            "4/4 [==============================] - 0s 4ms/step - loss: 1.3002 - accuracy: 0.6641\n",
            "Epoch 29/100\n",
            "4/4 [==============================] - 0s 4ms/step - loss: 2.5427 - accuracy: 0.6016\n",
            "Epoch 30/100\n",
            "4/4 [==============================] - 0s 4ms/step - loss: 1.2895 - accuracy: 0.7188\n",
            "Epoch 31/100\n",
            "4/4 [==============================] - 0s 6ms/step - loss: 3.0136 - accuracy: 0.6953\n",
            "Epoch 32/100\n",
            "4/4 [==============================] - 0s 3ms/step - loss: 1.6774 - accuracy: 0.6797\n",
            "Epoch 33/100\n",
            "4/4 [==============================] - 0s 4ms/step - loss: 1.5327 - accuracy: 0.6875\n",
            "Epoch 34/100\n",
            "4/4 [==============================] - 0s 4ms/step - loss: 1.6986 - accuracy: 0.6641\n",
            "Epoch 35/100\n",
            "4/4 [==============================] - 0s 5ms/step - loss: 1.0932 - accuracy: 0.7344\n",
            "Epoch 36/100\n",
            "4/4 [==============================] - 0s 5ms/step - loss: 1.1553 - accuracy: 0.7109\n",
            "Epoch 37/100\n",
            "4/4 [==============================] - 0s 4ms/step - loss: 1.4440 - accuracy: 0.7031\n",
            "Epoch 38/100\n",
            "4/4 [==============================] - 0s 4ms/step - loss: 1.1250 - accuracy: 0.7266\n",
            "Epoch 39/100\n",
            "4/4 [==============================] - 0s 3ms/step - loss: 2.0141 - accuracy: 0.6797\n",
            "Epoch 40/100\n",
            "4/4 [==============================] - 0s 4ms/step - loss: 1.2013 - accuracy: 0.6797\n",
            "Epoch 41/100\n",
            "4/4 [==============================] - 0s 4ms/step - loss: 1.8261 - accuracy: 0.6797\n",
            "Epoch 42/100\n",
            "4/4 [==============================] - 0s 4ms/step - loss: 1.1527 - accuracy: 0.6875\n",
            "Epoch 43/100\n",
            "4/4 [==============================] - 0s 3ms/step - loss: 0.8868 - accuracy: 0.6797\n",
            "Epoch 44/100\n",
            "4/4 [==============================] - 0s 8ms/step - loss: 1.6730 - accuracy: 0.6484\n",
            "Epoch 45/100\n",
            "4/4 [==============================] - 0s 4ms/step - loss: 1.7698 - accuracy: 0.6250\n",
            "Epoch 46/100\n",
            "4/4 [==============================] - 0s 4ms/step - loss: 0.9777 - accuracy: 0.6641\n",
            "Epoch 47/100\n",
            "4/4 [==============================] - 0s 3ms/step - loss: 0.9740 - accuracy: 0.6797\n",
            "Epoch 48/100\n",
            "4/4 [==============================] - 0s 3ms/step - loss: 2.4239 - accuracy: 0.6719\n",
            "Epoch 49/100\n",
            "4/4 [==============================] - 0s 4ms/step - loss: 1.0264 - accuracy: 0.7109\n",
            "Epoch 50/100\n",
            "4/4 [==============================] - 0s 4ms/step - loss: 1.1352 - accuracy: 0.7109\n",
            "Epoch 51/100\n",
            "4/4 [==============================] - 0s 4ms/step - loss: 1.5389 - accuracy: 0.6641\n",
            "Epoch 52/100\n",
            "4/4 [==============================] - 0s 5ms/step - loss: 1.0251 - accuracy: 0.6953\n",
            "Epoch 53/100\n",
            "4/4 [==============================] - 0s 3ms/step - loss: 2.2589 - accuracy: 0.6875\n",
            "Epoch 54/100\n",
            "4/4 [==============================] - 0s 4ms/step - loss: 1.9426 - accuracy: 0.6719\n",
            "Epoch 55/100\n",
            "4/4 [==============================] - 0s 4ms/step - loss: 1.4160 - accuracy: 0.6562\n",
            "Epoch 56/100\n",
            "4/4 [==============================] - 0s 3ms/step - loss: 1.1384 - accuracy: 0.6719\n",
            "Epoch 57/100\n",
            "4/4 [==============================] - 0s 3ms/step - loss: 0.8563 - accuracy: 0.7188\n",
            "Epoch 58/100\n",
            "4/4 [==============================] - 0s 5ms/step - loss: 0.8143 - accuracy: 0.6953\n",
            "Epoch 59/100\n",
            "4/4 [==============================] - 0s 4ms/step - loss: 1.3147 - accuracy: 0.6875\n",
            "Epoch 60/100\n",
            "4/4 [==============================] - 0s 4ms/step - loss: 0.7122 - accuracy: 0.7188\n",
            "Epoch 61/100\n",
            "4/4 [==============================] - 0s 4ms/step - loss: 1.0192 - accuracy: 0.6328\n",
            "Epoch 62/100\n",
            "4/4 [==============================] - 0s 4ms/step - loss: 0.8208 - accuracy: 0.7266\n",
            "Epoch 63/100\n",
            "4/4 [==============================] - 0s 4ms/step - loss: 1.2111 - accuracy: 0.7344\n",
            "Epoch 64/100\n",
            "4/4 [==============================] - 0s 4ms/step - loss: 1.1068 - accuracy: 0.7109\n",
            "Epoch 65/100\n",
            "4/4 [==============================] - 0s 4ms/step - loss: 0.6658 - accuracy: 0.7188\n",
            "Epoch 66/100\n",
            "4/4 [==============================] - 0s 4ms/step - loss: 0.9422 - accuracy: 0.7344\n",
            "Epoch 67/100\n",
            "4/4 [==============================] - 0s 4ms/step - loss: 0.9818 - accuracy: 0.6953\n",
            "Epoch 68/100\n",
            "4/4 [==============================] - 0s 4ms/step - loss: 1.6921 - accuracy: 0.6797\n",
            "Epoch 69/100\n",
            "4/4 [==============================] - 0s 4ms/step - loss: 1.7269 - accuracy: 0.7188\n",
            "Epoch 70/100\n",
            "4/4 [==============================] - 0s 4ms/step - loss: 1.3306 - accuracy: 0.7031\n",
            "Epoch 71/100\n",
            "4/4 [==============================] - 0s 4ms/step - loss: 2.6787 - accuracy: 0.7109\n",
            "Epoch 72/100\n",
            "4/4 [==============================] - 0s 4ms/step - loss: 0.8327 - accuracy: 0.7266\n",
            "Epoch 73/100\n",
            "4/4 [==============================] - 0s 3ms/step - loss: 1.3957 - accuracy: 0.7109\n",
            "Epoch 74/100\n",
            "4/4 [==============================] - 0s 3ms/step - loss: 1.3853 - accuracy: 0.6875\n",
            "Epoch 75/100\n",
            "4/4 [==============================] - 0s 3ms/step - loss: 0.9724 - accuracy: 0.7031\n",
            "Epoch 76/100\n",
            "4/4 [==============================] - 0s 4ms/step - loss: 0.7955 - accuracy: 0.6797\n",
            "Epoch 77/100\n",
            "4/4 [==============================] - 0s 3ms/step - loss: 1.6215 - accuracy: 0.6797\n",
            "Epoch 78/100\n",
            "4/4 [==============================] - 0s 4ms/step - loss: 1.2466 - accuracy: 0.7422\n",
            "Epoch 79/100\n",
            "4/4 [==============================] - 0s 6ms/step - loss: 0.7162 - accuracy: 0.7188\n",
            "Epoch 80/100\n",
            "4/4 [==============================] - 0s 4ms/step - loss: 0.8389 - accuracy: 0.7109\n",
            "Epoch 81/100\n",
            "4/4 [==============================] - 0s 4ms/step - loss: 1.1377 - accuracy: 0.6719\n",
            "Epoch 82/100\n",
            "4/4 [==============================] - 0s 4ms/step - loss: 0.8473 - accuracy: 0.7422\n",
            "Epoch 83/100\n",
            "4/4 [==============================] - 0s 4ms/step - loss: 0.8716 - accuracy: 0.6562\n",
            "Epoch 84/100\n",
            "4/4 [==============================] - 0s 5ms/step - loss: 1.3867 - accuracy: 0.6875\n",
            "Epoch 85/100\n",
            "4/4 [==============================] - 0s 4ms/step - loss: 0.6913 - accuracy: 0.7188\n",
            "Epoch 86/100\n",
            "4/4 [==============================] - 0s 4ms/step - loss: 2.5231 - accuracy: 0.7188\n",
            "Epoch 87/100\n",
            "4/4 [==============================] - 0s 4ms/step - loss: 0.7275 - accuracy: 0.7188\n",
            "Epoch 88/100\n",
            "4/4 [==============================] - 0s 4ms/step - loss: 2.5765 - accuracy: 0.7031\n",
            "Epoch 89/100\n",
            "4/4 [==============================] - 0s 4ms/step - loss: 2.4533 - accuracy: 0.6562\n",
            "Epoch 90/100\n",
            "4/4 [==============================] - 0s 3ms/step - loss: 1.1345 - accuracy: 0.7266\n",
            "Epoch 91/100\n",
            "4/4 [==============================] - 0s 4ms/step - loss: 1.0703 - accuracy: 0.6719\n",
            "Epoch 92/100\n",
            "4/4 [==============================] - 0s 4ms/step - loss: 0.9556 - accuracy: 0.7500\n",
            "Epoch 93/100\n",
            "4/4 [==============================] - 0s 4ms/step - loss: 1.5900 - accuracy: 0.6484\n",
            "Epoch 94/100\n",
            "4/4 [==============================] - 0s 3ms/step - loss: 1.2429 - accuracy: 0.7344\n",
            "Epoch 95/100\n",
            "4/4 [==============================] - 0s 4ms/step - loss: 0.9390 - accuracy: 0.7500\n",
            "Epoch 96/100\n",
            "4/4 [==============================] - 0s 3ms/step - loss: 0.9187 - accuracy: 0.6875\n",
            "Epoch 97/100\n",
            "4/4 [==============================] - 0s 3ms/step - loss: 1.3063 - accuracy: 0.7109\n",
            "Epoch 98/100\n",
            "4/4 [==============================] - 0s 4ms/step - loss: 0.7317 - accuracy: 0.7266\n",
            "Epoch 99/100\n",
            "4/4 [==============================] - 0s 3ms/step - loss: 0.7494 - accuracy: 0.7500\n",
            "Epoch 100/100\n",
            "4/4 [==============================] - 0s 4ms/step - loss: 0.6288 - accuracy: 0.7812\n"
          ]
        },
        {
          "output_type": "execute_result",
          "data": {
            "text/plain": [
              "<keras.callbacks.History at 0x7f04f3fa8ee0>"
            ]
          },
          "metadata": {},
          "execution_count": 20
        }
      ]
    },
    {
      "cell_type": "markdown",
      "source": [
        "### Predicting from given model"
      ],
      "metadata": {
        "id": "mlduQckc10Mz"
      }
    },
    {
      "cell_type": "code",
      "source": [
        "def bag_of_words(a, tokens):\n",
        "    bag = [0 for _ in range(len(tokens))]\n",
        "    #bag=[]\n",
        "\n",
        "    a_words = nltk.word_tokenize(a)\n",
        "    a_words = [stemmer.stem(word.lower()) for word in a_words]\n",
        "\n",
        "    for item in a_words:\n",
        "        for i, w in enumerate(tokens):\n",
        "            if w == item:\n",
        "                bag[i] = 1\n",
        "      \n",
        "    return np.array(bag)"
      ],
      "metadata": {
        "id": "gI68d8Tpw3s8"
      },
      "execution_count": 21,
      "outputs": []
    },
    {
      "cell_type": "markdown",
      "source": [
        "### Model predicting on the user input given and finding the most probable class."
      ],
      "metadata": {
        "id": "gscMPsj6zZ67"
      }
    },
    {
      "cell_type": "code",
      "source": [
        "def chat():\n",
        "    print(\"Hi! I am Bot. How can I help you? (type quit to stop)!\")\n",
        "    while True:\n",
        "        inp = input(\"You: \")\n",
        "        if inp.lower() == \"quit\":\n",
        "          break\n",
        "        xy =bag_of_words(inp,tokens)\n",
        "        training=xy.reshape(150,1)\n",
        "        training=tensorflow.expand_dims(xy,axis=0)\n",
        "        # print(training.shape)\n",
        "        results = model.predict(training) \n",
        "         \n",
        "        results_index = np.argmax(results)\n",
        "        tag = labels[results_index]\n",
        "\n",
        "        for tg in data[\"intents\"]:\n",
        "            if tg['tag'] == tag:\n",
        "                responses = tg['responses']\n",
        "\n",
        "        print(random.choice(responses))"
      ],
      "metadata": {
        "id": "4aZQhMKezdpK"
      },
      "execution_count": 22,
      "outputs": []
    },
    {
      "cell_type": "code",
      "source": [
        "chat()"
      ],
      "metadata": {
        "colab": {
          "base_uri": "https://localhost:8080/"
        },
        "id": "xZMHvEp40y_k",
        "outputId": "49f3d40b-41bd-494e-b939-dcf4a86f87a8"
      },
      "execution_count": 23,
      "outputs": [
        {
          "name": "stdout",
          "output_type": "stream",
          "text": [
            "Hi! I am Bot. How can I help you? (type quit to stop)!\n",
            "You: hey\n",
            "1/1 [==============================] - 0s 76ms/step\n",
            "Hello! how can i help you ?\n",
            "You: need help\n",
            "1/1 [==============================] - 0s 19ms/step\n",
            "Hello! how can i help you ?\n",
            "You: who are you\n",
            "1/1 [==============================] - 0s 17ms/step\n",
            "Hello! how can i help you ?\n",
            "You: SL\n",
            "1/1 [==============================] - 0s 18ms/step\n",
            "Link: Machine Learning wiki \n",
            "You: Neural network\n",
            "1/1 [==============================] - 0s 23ms/step\n",
            "Link: Neural Nets wiki\n",
            "You: create a ticket\n",
            "1/1 [==============================] - 0s 20ms/step\n",
            "Hello! how can i help you ?\n",
            "You: quit\n"
          ]
        }
      ]
    },
    {
      "cell_type": "code",
      "source": [],
      "metadata": {
        "id": "TsypzXaD5-7I"
      },
      "execution_count": 23,
      "outputs": []
    }
  ]
}